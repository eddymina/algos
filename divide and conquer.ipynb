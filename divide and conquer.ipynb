{
 "cells": [
  {
   "cell_type": "markdown",
   "id": "04298600",
   "metadata": {},
   "source": [
    "O(1)<O(logn)<O(n)<O(nlogn)<O(n^2)<O(2^n)<O(n!)\n"
   ]
  },
  {
   "cell_type": "code",
   "execution_count": 284,
   "id": "531bea43",
   "metadata": {},
   "outputs": [],
   "source": [
    "import math\n",
    " \n",
    "# Function to check\n",
    "# Log base 2\n",
    "def Log2(x):\n",
    "    return (math.log10(x) /\n",
    "            math.log10(2));\n",
    " \n",
    "# Function to check\n",
    "# if x is power of 2\n",
    "def isPowerOfTwo(n):\n",
    "    return (math.ceil(Log2(n)) == math.floor(Log2(n)));\n",
    "\n"
   ]
  },
  {
   "cell_type": "markdown",
   "id": "1b7003c6",
   "metadata": {},
   "source": [
    "### binary search"
   ]
  },
  {
   "cell_type": "code",
   "execution_count": null,
   "id": "c8b772bb",
   "metadata": {},
   "outputs": [],
   "source": [
    "\n",
    "def binary_search(arr, low, high, x):\n",
    "    \"\"\"\n",
    "    Keep splitting (low+high)/2 \n",
    "    and selecting range of inidices that will include x \n",
    "    \n",
    "    T(n)= T(n/2)+O(1) = O(log(n))\n",
    "    \"\"\"\n",
    "    \n",
    "#     print(arr[low:high])\n",
    " \n",
    "    # Check base case\n",
    "    if high >= low:\n",
    " \n",
    "        mid = (high + low) // 2\n",
    " \n",
    "        # If element is present at the middle itself\n",
    "        if arr[mid] == x:\n",
    "            return mid\n",
    " \n",
    "        # If element is smaller than mid, then it can only\n",
    "        # be present in left subarray\n",
    "        elif arr[mid] > x:\n",
    "            return binary_search(arr, low, mid - 1, x)\n",
    " \n",
    "        # Else the element can only be present in right subarray\n",
    "        else:\n",
    "            return binary_search(arr, mid + 1, high, x)\n",
    " \n",
    "    else:\n",
    "        # Element is not present in the array\n",
    "        return -1\n",
    "\n",
    "arr = [ 2, 3, 4, 10, 40 ]\n",
    "x = 10\n",
    " \n",
    "# Function call\n",
    "binary_search(arr, 0, len(arr)-1, x)"
   ]
  },
  {
   "cell_type": "markdown",
   "id": "7982f923",
   "metadata": {},
   "source": [
    "### Brute SORT"
   ]
  },
  {
   "cell_type": "code",
   "execution_count": null,
   "id": "22d79f4f",
   "metadata": {},
   "outputs": [],
   "source": [
    "def brute_sort(x):\n",
    "    o = [None for _ in range(len(x))]\n",
    "    for i in range(len(x)):\n",
    "        for j in range(i+1,len(x)):\n",
    "            if x[i]<=x[j]:\n",
    "                o[i]=x[i]\n",
    "                \n",
    "                \n",
    "    return o \n",
    "\n",
    "brute_sort([10,2,5,3,7,13,1,6])"
   ]
  },
  {
   "cell_type": "markdown",
   "id": "378ccfa7",
   "metadata": {},
   "source": [
    "### Quick SORT"
   ]
  },
  {
   "cell_type": "code",
   "execution_count": null,
   "id": "71bf8089",
   "metadata": {},
   "outputs": [],
   "source": [
    "import numpy as np \n",
    "def partition(arr,low,high):\n",
    "    n = len(arr)\n",
    "    \n",
    "    pivot=  arr[low]\n",
    "    \n",
    "    i = low+1\n",
    "    j = high\n",
    "    \n",
    "    while True:\n",
    "        \n",
    "        if i>j:\n",
    "            (arr[low],arr[j])=(arr[j],arr[low])\n",
    "            break\n",
    "            \n",
    "        (arr[i],arr[j])=(arr[j],arr[i])\n",
    "    \n",
    "        while i<=j and arr[j]>=pivot:\n",
    "            j-=1\n",
    "        while i<=j and arr[i]<=pivot:\n",
    "            i+=1\n",
    "    \n",
    "\n",
    "    return j\n",
    "\n",
    "x=[10,16,8,12,15,6,3,9,5]\n",
    "# print(x)\n",
    "# partition(x,0,len(x)-1)\n",
    "\n",
    "def quicksort(x,low,high):\n",
    "    \"\"\"\n",
    "    T[n] = T[n]+O(n)\n",
    "    \"\"\"\n",
    "    if low>=high:\n",
    "        return \n",
    "    \n",
    "    p = partition(x,low,high)\n",
    "    quicksort(x,low,p-1)\n",
    "    quicksort(x,p+1,high)\n",
    "        \n",
    "        \n",
    "quicksort(x,0,len(x)-1)\n",
    "x\n",
    "            \n",
    "            \n",
    "        "
   ]
  },
  {
   "cell_type": "code",
   "execution_count": null,
   "id": "ae1df107",
   "metadata": {},
   "outputs": [],
   "source": []
  },
  {
   "cell_type": "markdown",
   "id": "14d48c9b",
   "metadata": {},
   "source": [
    "### Quickselect (not fast bruh)"
   ]
  },
  {
   "cell_type": "code",
   "execution_count": 7,
   "id": "17a8f4e2",
   "metadata": {},
   "outputs": [
    {
     "name": "stdout",
     "output_type": "stream",
     "text": [
      "10\n",
      "[3, 3, 5, 6, 8, 9, 10, 12, 15, 16]\n"
     ]
    },
    {
     "data": {
      "text/plain": [
       "5"
      ]
     },
     "execution_count": 7,
     "metadata": {},
     "output_type": "execute_result"
    }
   ],
   "source": [
    "def parition(x,p):\n",
    "    n=len(x )\n",
    "    lp,ep,gp=[],[],[]\n",
    "    for i in range(n):\n",
    "        if x[i]<p:\n",
    "            lp.append(x[i])\n",
    "        elif x[i]>p:\n",
    "            gp.append(x[i])\n",
    "        else:\n",
    "            ep.append(x[i])\n",
    "            \n",
    "    return lp,ep,gp\n",
    "\n",
    "\n",
    "\n",
    "def quickselect(arr,k):\n",
    "    \"\"\"\n",
    "    T(n) = T(1) + T(n-1) + O(n) = O(n^2)\n",
    "    \n",
    "    return the kth smallest element \n",
    "    \"\"\"\n",
    "\n",
    "    n = len(arr)\n",
    "    if n < 10:\n",
    "        arr.sort()\n",
    "        return arr[k]\n",
    "\n",
    "    \n",
    "    p = arr[0]\n",
    "    \n",
    "    lp,ep,gp = parition(arr,p)\n",
    "    \n",
    "    if k<=len(lp):\n",
    "        return quickselect(lp,k)\n",
    "    elif k>(len(lp)+len(ep)):\n",
    "        return quickselect(gp,k-len(lp)-len(ep))\n",
    "    else:\n",
    "        return p \n",
    "\n",
    "    \n",
    "x=[10,16,8,12,15,6,3,9,5,3]\n",
    "print(len(x))\n",
    "print(sorted(x))\n",
    "quickselect(x,2) "
   ]
  },
  {
   "cell_type": "markdown",
   "id": "c222c0bc",
   "metadata": {},
   "source": [
    "### fast select"
   ]
  },
  {
   "cell_type": "code",
   "execution_count": 127,
   "id": "09897414",
   "metadata": {},
   "outputs": [],
   "source": [
    "def fastselect(arr,k):\n",
    "    \"\"\"\n",
    "    T(n) = T(3/4n) + T(n/5) + O(n) = O(n)\n",
    "    also known as medians of medians \n",
    "    return the kth smallest element \n",
    "    \"\"\"\n",
    "\n",
    "    n = len(arr)\n",
    "    g=[]\n",
    "    for i in range(0,n,5):\n",
    "        g.append(arr[i:i+5])\n",
    "        \n",
    "    s=[]\n",
    "    for i in range(int(n//5)):\n",
    "        g[i] = sorted(g[i])\n",
    "        m_i=g[i][int(len(g[i])//2)]\n",
    "        s.append(m_i)\n",
    "        \n",
    "    if len(s)<=5:\n",
    "        print(s,len(s)//2)\n",
    "        p= sorted(s)[int(len(s)//2)]\n",
    "    else:\n",
    "        p = fastselect(s,int((len(s)//2)))\n",
    "    \n",
    "    lp,ep,gp = parition(arr,p)\n",
    "    \n",
    "    if k <= len(lp):\n",
    "        return fastselect(lp,k)\n",
    "    elif k > (len(lp)+len(ep)):\n",
    "        return fastselect(gp,k-len(lp)-len(ep))\n",
    "    else:\n",
    "        return p \n",
    "\n",
    "    \n"
   ]
  },
  {
   "cell_type": "code",
   "execution_count": 156,
   "id": "bf48352a",
   "metadata": {},
   "outputs": [],
   "source": [
    "def select(L, j):\n",
    "    if len(L) < 10:\n",
    "        L.sort()\n",
    "        return L[j]\n",
    "    S = []\n",
    "    lIndex = 0\n",
    "    while lIndex+5 < len(L)-1:\n",
    "        S.append(L[lIndex:lIndex+5])\n",
    "        lIndex += 5\n",
    "    S.append(L[lIndex:])\n",
    "    Meds = []\n",
    "    for subList in S:\n",
    "        Meds.append(select(subList, int((len(subList)-1)/2)))\n",
    "    med = select(Meds, int((len(Meds))/2))\n",
    "    L1 = []\n",
    "    L2 = []\n",
    "    L3 = []\n",
    "    for i in L:\n",
    "        if i < med:\n",
    "            L1.append(i)\n",
    "        elif i > med:\n",
    "            L3.append(i)\n",
    "        else:\n",
    "            L2.append(i)\n",
    "    if j < len(L1):\n",
    "        return select(L1, j)\n",
    "    elif j < len(L2) + len(L1):\n",
    "        return L2[0]\n",
    "    else:\n",
    "        return select(L3, j-len(L1)-len(L2))"
   ]
  },
  {
   "cell_type": "code",
   "execution_count": 216,
   "id": "4ce22aea",
   "metadata": {},
   "outputs": [
    {
     "name": "stdout",
     "output_type": "stream",
     "text": [
      "[3, 3, 5, 6, 8, 9, 10, 12, 15, 16]\n",
      "3 [10, 16, 8, 12, 15, 6, 3, 9, 5, 3]\n",
      "4 [10, 16, 8, 12, 15, 6, 3, 9, 5, 3]\n",
      "5 [10, 16, 8, 12, 15, 6, 3, 9, 5, 3]\n",
      "6 [10, 16, 8, 12, 15, 6, 3, 9, 5, 3]\n",
      "7 [10, 16, 8, 12, 15, 6, 3, 9, 5, 3]\n"
     ]
    },
    {
     "data": {
      "text/plain": [
       "[6, 8, 9, 10, 12]"
      ]
     },
     "execution_count": 216,
     "metadata": {},
     "output_type": "execute_result"
    }
   ],
   "source": [
    "x=[10,16,8,12,15,6,3,9,5,3]\n",
    "m = len(x)//2\n",
    "k = 4\n",
    "\n",
    "print(sorted(x))\n",
    "    \n",
    "\n",
    "res=[]\n",
    "for i in range(k+1):\n",
    "    kv=m-k//2+i\n",
    "    res.append(select( x, kv))\n",
    "    print(kv,x)\n",
    "    \n",
    "res"
   ]
  },
  {
   "cell_type": "code",
   "execution_count": 223,
   "id": "3087da7e",
   "metadata": {},
   "outputs": [
    {
     "name": "stdout",
     "output_type": "stream",
     "text": [
      "10\n",
      "8\n",
      "12\n",
      "6\n",
      "9\n"
     ]
    }
   ],
   "source": [
    "k1=m-k//2+0\n",
    "k2=m-k//2+k\n",
    "\n",
    "minv,maxv=select( x,k1),select( x,k2 )\n",
    "\n",
    "for i in range(len(x)):\n",
    "    if x[i]>=minv and x[i]<=maxv:\n",
    "        print(x[i])\n",
    "    "
   ]
  },
  {
   "cell_type": "code",
   "execution_count": 198,
   "id": "8dbc17fa",
   "metadata": {},
   "outputs": [
    {
     "data": {
      "text/plain": [
       "7"
      ]
     },
     "execution_count": 198,
     "metadata": {},
     "output_type": "execute_result"
    }
   ],
   "source": [
    "# x.index(x[m])\n",
    "x.index(res[len(res)//2])"
   ]
  },
  {
   "cell_type": "code",
   "execution_count": 180,
   "id": "5f481189",
   "metadata": {},
   "outputs": [
    {
     "name": "stdout",
     "output_type": "stream",
     "text": [
      "51\n"
     ]
    },
    {
     "data": {
      "text/plain": [
       "(51,\n",
       " [26, 71, 70, 81, 86, 51, 47, 56, 43, 3, 99, 95, 62, 78, 2, 29, 2, 34, 8, 42])"
      ]
     },
     "execution_count": 180,
     "metadata": {},
     "output_type": "execute_result"
    }
   ],
   "source": [
    "import numpy as np \n",
    "x=np.random.randint(0,100,20).tolist()\n",
    "\n",
    "k=int(len(x)//2)\n",
    "\n",
    "print(np.sort(x)[k])\n",
    "\n",
    "#select_pivot(x,k),x\n",
    "select(x,k),x"
   ]
  },
  {
   "cell_type": "code",
   "execution_count": 89,
   "id": "e26b75d7",
   "metadata": {},
   "outputs": [
    {
     "name": "stdout",
     "output_type": "stream",
     "text": [
      "[0, 14, 19, 21, 22, 25, 42, 46, 56, 59, 63, 63, 68, 83, 86, 89, 93, 95, 96, 97]\n",
      "3 3\n",
      "3 3\n",
      "5 5\n",
      "6 6\n",
      "8 8\n",
      "9 9\n",
      "10 10\n",
      "12 12\n",
      "15 15\n",
      "16 16\n"
     ]
    },
    {
     "data": {
      "text/plain": [
       "[3, 3, 5, 6, 8, 9, 10, 12, 15, 16]"
      ]
     },
     "execution_count": 89,
     "metadata": {},
     "output_type": "execute_result"
    }
   ],
   "source": [
    "print(sorted(x))\n",
    "\n",
    "        \n",
    "for k in range(10 \n",
    "              ):\n",
    "    x=[10,16,8,12,15,6,3,9,5,3]\n",
    "    print(sorted(x)[k],fastselect( x,k ))\n",
    "x"
   ]
  },
  {
   "cell_type": "code",
   "execution_count": 130,
   "id": "52371c07",
   "metadata": {},
   "outputs": [],
   "source": [
    "\n",
    "def select_pivot(arr, k):\n",
    "    \"\"\"\n",
    "    Select a pivot corresponding to the kth largest element in the array\n",
    "    :param arr: Array from which we need to find the median.\n",
    "    :param k: cardinality that represents the kth larget element in the array\n",
    "    :return: The value of the pivot\n",
    "    \"\"\"\n",
    "    # Divide array into chunks of 5\n",
    "    #chunks by taking i from 0 to 4, 5 to 9, 10 to 14, etc\n",
    "    chunks = [arr[i : i+5] for i in range(0, len(arr), 5)]\n",
    "\n",
    "    #sort each chunks\n",
    "    sorted_chunks = [sorted(chunk) for chunk in chunks]\n",
    "\n",
    "\n",
    "    #take the median of each chunk\n",
    "    medians = [chunk[len(chunk) // 2] for chunk in sorted_chunks]\n",
    "\n",
    "    #find the median of medians\n",
    "    if len(medians) <= 5:\n",
    "        pivot = sorted(medians)[len(medians) // 2]\n",
    "    else:\n",
    "        pivot = select_pivot(len(medians) // 2)\n",
    "\n",
    "\n",
    "\n",
    "    #partition the array around the pivot\n",
    "    p = partition(arr, pivot)\n",
    "\n",
    "    #is the pivot position at the k position?\n",
    "    if k == p:\n",
    "        #select that pivot\n",
    "        return pivot\n",
    "\n",
    "    if k < p:\n",
    "        #select a new pivot by looking on the left side of the partioning\n",
    "        return select_pivot(arr[0:p], k)\n",
    "    else:\n",
    "        #select a new pivot by looking on the right side of the partioning\n",
    "        return select_pivot(arr[p+1:len(arr)], k - p - 1)\n",
    "\n",
    "\n",
    "def partition(arr, pivot):\n",
    "    \"\"\"\n",
    "    Partition the array around the given pivot\n",
    "    :param arr: array to be partitioned\n",
    "    :param pivot: pivot used for the partitioning\n",
    "    :return: final position of the pivot used as a partioning point\n",
    "    \"\"\"\n",
    "    left = 0\n",
    "    right = len(arr) - 1\n",
    "    i = 0\n",
    "\n",
    "    while i <= right:\n",
    "        if arr[i] == pivot:\n",
    "            i += 1\n",
    "\n",
    "        elif arr[i] < pivot:\n",
    "            arr[left], arr[i] = arr[i], arr[left]\n",
    "            left += 1\n",
    "            i += 1\n",
    "        else:\n",
    "            arr[right], arr[i] = arr[i], arr[right]\n",
    "            right -= 1\n",
    "\n",
    "    return left\n"
   ]
  },
  {
   "cell_type": "code",
   "execution_count": null,
   "id": "5045292f",
   "metadata": {},
   "outputs": [],
   "source": []
  },
  {
   "cell_type": "markdown",
   "id": "c87df9ae",
   "metadata": {},
   "source": [
    "### MergeSORT"
   ]
  },
  {
   "cell_type": "code",
   "execution_count": null,
   "id": "21e60e4b",
   "metadata": {},
   "outputs": [],
   "source": [
    "def merge(x,y):\n",
    "    \"\"\"\n",
    "    O(n)\n",
    "    \"\"\"\n",
    "    #print('c',x,y)\n",
    "    \n",
    "    k = len(x)\n",
    "    l = len(y)\n",
    "    \n",
    "    if k==0:\n",
    "        return y\n",
    "    if l==0:\n",
    "        return x\n",
    "    \n",
    "    if x[0]<=y[0]:\n",
    "        return x[0:1]+merge(x[1:],y)\n",
    "    return y[0:1]+merge(x,y[1:])\n",
    "    \n",
    "    \n",
    "    \n",
    "def mergesort(a):\n",
    "    \"\"\"\n",
    "    T(n)= 2T(n/2)+O(n) = O(nlogn)\n",
    "    \"\"\"\n",
    "    #print('m',a)\n",
    "    n = len(a)\n",
    "    if n>1:\n",
    "        mid= int(n//2)\n",
    "        return merge(mergesort(a[:mid]),mergesort(a[mid:]))\n",
    "    return a \n",
    "        \n",
    "        \n",
    "mergesort([10,2,5,3,7,13,1,6])    "
   ]
  },
  {
   "cell_type": "markdown",
   "id": "13924423",
   "metadata": {},
   "source": [
    "### nbit integer mult"
   ]
  },
  {
   "cell_type": "code",
   "execution_count": 287,
   "id": "036b0d75",
   "metadata": {},
   "outputs": [
    {
     "data": {
      "text/plain": [
       "28028.0"
      ]
     },
     "execution_count": 287,
     "metadata": {},
     "output_type": "execute_result"
    }
   ],
   "source": [
    "eval(bin(186))\n",
    "\n",
    "def number_of_bits(n):\n",
    "    return len('{:b}'.format(n))\n",
    "\n",
    "\n",
    "def fhalf(n):\n",
    "    n=bin(n)\n",
    "    x= len(n)\n",
    "    return n[:x//2+1]\n",
    "\n",
    "def shalf(n):\n",
    "    n=bin(n)\n",
    "    x= len(n)\n",
    "    return n[:2]+n[x//2+1:]\n",
    "\n",
    "\n",
    "def multiply(x,y):\n",
    "    \"\"\"\n",
    "    O(n^(1.5))\n",
    "    \"\"\"\n",
    "    \n",
    "    \n",
    "    n=number_of_bits(x)\n",
    "    \n",
    "    assert isPowerOfTwo(n),f'{n} is not a power of two'\n",
    "\n",
    "\n",
    "    x_l =eval(fhalf(x))\n",
    "    y_l =eval(fhalf(y))\n",
    "    x_r =eval(shalf(x))\n",
    "    y_r =eval(shalf(y))\n",
    "    \n",
    "    A=x_l*y_l\n",
    "    B=x_r*y_r\n",
    "    C=(x_l+x_r)*(y_l+y_r)\n",
    "    \n",
    "    return 2**n*A+2**(n/2)*(C-A-B)+B\n",
    "\n",
    "multiply(182,154)\n"
   ]
  },
  {
   "cell_type": "markdown",
   "id": "d9e308e4",
   "metadata": {},
   "source": []
  },
  {
   "cell_type": "code",
   "execution_count": 304,
   "id": "15d1638d",
   "metadata": {},
   "outputs": [
    {
     "data": {
      "text/plain": [
       "13"
      ]
     },
     "execution_count": 304,
     "metadata": {},
     "output_type": "execute_result"
    }
   ],
   "source": [
    "def frombinary(a):\n",
    "    n= len(a)\n",
    "    sol = 0\n",
    "    for i in range(n):\n",
    "        #print(i,n-i-1)\n",
    "        v=int(a[i])*2**(n-i-1)\n",
    "        sol+=v\n",
    "        \n",
    "    return sol\n",
    "        \n",
    "frombinary(list('1101'))"
   ]
  },
  {
   "cell_type": "markdown",
   "id": "60dd1b4c",
   "metadata": {},
   "source": []
  },
  {
   "cell_type": "code",
   "execution_count": null,
   "id": "18cf3cd5",
   "metadata": {},
   "outputs": [],
   "source": [
    "eval(fhalf(bin(v))),eval(shalf(bin(v)))"
   ]
  },
  {
   "cell_type": "markdown",
   "id": "43543384",
   "metadata": {},
   "source": []
  },
  {
   "cell_type": "code",
   "execution_count": null,
   "id": "3a0d9317",
   "metadata": {},
   "outputs": [],
   "source": []
  },
  {
   "cell_type": "code",
   "execution_count": null,
   "id": "e46f40a3",
   "metadata": {},
   "outputs": [],
   "source": []
  },
  {
   "cell_type": "code",
   "execution_count": null,
   "id": "9764c957",
   "metadata": {},
   "outputs": [],
   "source": []
  },
  {
   "cell_type": "code",
   "execution_count": null,
   "id": "77a4d9e0",
   "metadata": {},
   "outputs": [],
   "source": []
  },
  {
   "cell_type": "markdown",
   "id": "7a6658c4",
   "metadata": {},
   "source": [
    "\n",
    "\n",
    "### Exponential Search"
   ]
  },
  {
   "cell_type": "code",
   "execution_count": null,
   "id": "68f30468",
   "metadata": {},
   "outputs": [],
   "source": [
    "s,e=0,1\n",
    "\n",
    "for _ in range(10):\n",
    "    s= e\n",
    "    e= 2*e\n",
    "    print(s,e)\n",
    "    \n",
    "2**10"
   ]
  },
  {
   "cell_type": "markdown",
   "id": "da6585fc",
   "metadata": {},
   "source": [
    "### Find if a[i]=i in sorted array"
   ]
  },
  {
   "cell_type": "code",
   "execution_count": null,
   "id": "c54a6b71",
   "metadata": {},
   "outputs": [],
   "source": [
    "### \n",
    "def solve(a,d=0):\n",
    "    n = len(a)\n",
    "    \n",
    "    m = int(n//2)\n",
    "    print('a=',a,'m=',m,'d=',d,'a[m]-d=',a[m])\n",
    "    if a[m]==m+d:\n",
    "        return True\n",
    "    \n",
    "    elif len(a)==1:\n",
    "        return False\n",
    "    \n",
    "    elif a[m]<m+d:\n",
    "        return solve(a[m:],d=m+d)\n",
    "    \n",
    "    else:\n",
    "        print('ok')\n",
    "        return solve(a[:m],d=d)\n",
    "    \n",
    "ass= [[-3,-1,0,3,5,7], #in center\n",
    "    [-3,-1,0,1,4,7], #at second half \n",
    "    [-3, 1,3,4,5,7], #at first half \n",
    "    [-3,-2,0,4,5,7]] #not there     \n",
    "# for a in ass[2:3]:\n",
    "#     print(solve(a))\n"
   ]
  },
  {
   "cell_type": "code",
   "execution_count": null,
   "id": "036844aa",
   "metadata": {},
   "outputs": [],
   "source": []
  },
  {
   "cell_type": "markdown",
   "id": "ed80572b",
   "metadata": {},
   "source": [
    "### Find index in infinte sorted array"
   ]
  },
  {
   "cell_type": "code",
   "execution_count": null,
   "id": "69a8e3e4",
   "metadata": {},
   "outputs": [],
   "source": [
    "\n",
    "\n",
    "import numpy as np\n",
    "\n",
    "a = np.random.randint(0,10000,1000)\n",
    "a.sort()\n",
    "\n",
    "x= a[124]\n",
    "\n",
    "for n in range(1000):\n",
    "    e= 2**n\n",
    "    if a[e] >= x:\n",
    "        break\n",
    "              \n",
    "    \n",
    "binary_search(a, int(e/2),e,x),np.argwhere(a==x)"
   ]
  },
  {
   "cell_type": "markdown",
   "id": "f9f03c38",
   "metadata": {},
   "source": [
    "### convolution "
   ]
  },
  {
   "cell_type": "code",
   "execution_count": null,
   "id": "09b482d3",
   "metadata": {},
   "outputs": [],
   "source": [
    "import numpy as np\n",
    "a,b=np.array([1,2,3]),np.array([2,-1,4,])\n",
    "np.convolve(a,b),(3*b[:3]).sum(),(3*b[3:6]).sum()\n",
    "\n",
    "\n",
    "a,b=[1,2,3],[0,0,2,-1,4,0,0]\n",
    "\n",
    "\n",
    "def convolve(a,b):\n",
    "    c= [0]*len(b)\n",
    "    L = len(b)\n",
    "    for k in range(len(c)-len(a)+1):\n",
    "        for n in range(len(a)):\n",
    "            c[k] += a[len(a)-n-1]*b[(k+n)%(len(b)-1)]\n",
    "    return c\n",
    "convolve(a,b)"
   ]
  },
  {
   "cell_type": "code",
   "execution_count": null,
   "id": "32fc5e76",
   "metadata": {},
   "outputs": [],
   "source": [
    "q=5\n",
    "q-1-np.arange(q),np.arange(q)"
   ]
  },
  {
   "cell_type": "markdown",
   "id": "a0626d43",
   "metadata": {},
   "source": [
    "### unit circle + nth roots of unity"
   ]
  },
  {
   "cell_type": "code",
   "execution_count": 312,
   "id": "4f009af4",
   "metadata": {},
   "outputs": [
    {
     "data": {
      "text/plain": [
       "<matplotlib.collections.PathCollection at 0x7fa31fe97b38>"
      ]
     },
     "execution_count": 312,
     "metadata": {},
     "output_type": "execute_result"
    },
    {
     "data": {
      "image/png": "[encoded data removed]",
      "text/plain": [
       "<Figure size 432x288 with 1 Axes>"
      ]
     },
     "metadata": {
      "needs_background": "light"
     },
     "output_type": "display_data"
    }
   ],
   "source": [
    "\n",
    "import matplotlib.pyplot as plt \n",
    "import numpy as np\n",
    "\n",
    "def nthroots(n,j=None):\n",
    "    \"\"\"\n",
    "    (w_n)^j = e^{i*2(pi)j} where j=0 -->n-1\n",
    "    \"\"\"\n",
    "    if j is None:\n",
    "        j= np.arange(n)\n",
    "    j= np.array(j)\n",
    "    th= 2*np.pi*j/n\n",
    "    return np.exp(1j*th)\n",
    "\n",
    "\n",
    "\n",
    "def nthroots_inv(n,j=None):\n",
    "    \"\"\"\n",
    "    (w_n)^-j = (w_n)^n-j = (1,2(pi)j) where j=0 -->n-1\n",
    "    \"\"\"\n",
    "    if j is None:\n",
    "        j= (n)-np.arange(n)\n",
    "    \n",
    "    else:\n",
    "        j= np.array(j)\n",
    "        j = n-j\n",
    "    \n",
    "    th= 2*np.pi*j/n\n",
    "    return np.exp(1j*th)\n",
    "\n",
    "\n",
    "# i = complex(0,1)\n",
    "\n",
    "\n",
    "unit = nthroots(8)\n",
    "plt.scatter(unit.real,unit.imag,color='red')"
   ]
  },
  {
   "cell_type": "markdown",
   "id": "94fc37a0",
   "metadata": {},
   "source": []
  },
  {
   "cell_type": "code",
   "execution_count": 340,
   "id": "c89d99a1",
   "metadata": {},
   "outputs": [
    {
     "name": "stdout",
     "output_type": "stream",
     "text": [
      "8\n"
     ]
    },
    {
     "data": {
      "text/plain": [
       "([5, 13, 23, 16, 13, 11, 3, 0],\n",
       " [5, 13, 23, 16, 13, 11, 3, 0],\n",
       " [5, 13, 23, 16, 13, 11, 3])"
      ]
     },
     "execution_count": 340,
     "metadata": {},
     "output_type": "execute_result"
    }
   ],
   "source": [
    "import math \n",
    "import numpy as np \n",
    "\n",
    "def FFT(P):\n",
    "    \"\"\"\n",
    "    T(n) = 2T(n/2) + O(n) = O(n log n)\n",
    "    \"\"\"\n",
    "    n = len(P)\n",
    "    if n==1:\n",
    "        return P \n",
    "    \n",
    "    w = nthroots(n)\n",
    "    \n",
    "    P_e,P_o = P[::2],P[1::2]\n",
    "    \n",
    "    y_e,y_o = FFT(P_e),FFT(P_o)\n",
    "    \n",
    "    y = [0]*n \n",
    "    for j in range(int(n/2)):\n",
    "        y[j] = y_e[j]+w[j]*y_o[j]\n",
    "        y[j+int(n/2)] = y_e[j]-w[j]*y_o[j]\n",
    "    return np.array(y)\n",
    "\n",
    "\n",
    "def IFFT(P):\n",
    "    n = len(P)\n",
    "    if n==1:\n",
    "        return P \n",
    "    \n",
    "    w = nthroots_inv(n)\n",
    "    \n",
    "    P_e,P_o = P[::2],P[1::2]\n",
    "    \n",
    "    y_e,y_o = IFFT(P_e),IFFT(P_o)\n",
    "    \n",
    "    y = [0]*n \n",
    "    for j in range(int(n/2)):\n",
    "        y[j] = y_e[j]+w[j]*y_o[j]\n",
    "        y[j+int(n/2)] = y_e[j]-w[j]*y_o[j]\n",
    "    return np.array(y)\n",
    "\n",
    "from numpy.fft import rfft, irfft\n",
    "def fftrealpolymul(arr_a, arr_b):  #fft based real-valued polynomial multiplication\n",
    "    L = len(arr_a) + len(arr_b)\n",
    "    print(L)\n",
    "    a_f = np.fft.fft(arr_a, L)\n",
    "    b_f = np.fft.fft(arr_b, L)\n",
    "    \n",
    "    #return a_f,b_f\n",
    "    return a_f,b_f,np.fft.ifft(a_f * b_f).real\n",
    "\n",
    "\n",
    "p1,p2=[1,2,3],[5,3,2,3,1]#[0,0,5,3,2,1,0,0]\n",
    "L = len(p1)+len(p2)\n",
    "\n",
    "\n",
    "\n",
    "\n",
    "# FFT(p1+[0]*(L-len(p1))),np.fft.fft(p1+[0]*(L-len(p1)))\n",
    "\n",
    "\n",
    "a_f,b_f,sol= fftrealpolymul(p1,p2)\n",
    "\n",
    "prod= FFT(p1+[0]*(L-len(p1)))*FFT(p2+[0]*(L-len(p2)))\n",
    "np.rint((IFFT(prod)/L).real).astype(int).tolist(),np.rint(sol).astype(int).tolist(),np.convolve(p1,p2).tolist()"
   ]
  },
  {
   "cell_type": "code",
   "execution_count": 360,
   "id": "6fe44e58",
   "metadata": {},
   "outputs": [
    {
     "data": {
      "text/plain": [
       "156"
      ]
     },
     "execution_count": 360,
     "metadata": {},
     "output_type": "execute_result"
    }
   ],
   "source": [
    "def eval_poly(poly):\n",
    "    poly= np.array(poly)\n",
    "    return (poly*([2**i for i in range(len(poly))])).sum()\n",
    "\n",
    "def poly_coeff(n):\n",
    "    return [int(i) for i in list(bin(n))[2:]][::-1]\n",
    "\n",
    "eval_poly(poly_coeff(156))"
   ]
  },
  {
   "cell_type": "code",
   "execution_count": 350,
   "id": "081c85b5",
   "metadata": {},
   "outputs": [
    {
     "data": {
      "text/plain": [
       "[1, 0, 1, 1]"
      ]
     },
     "execution_count": 350,
     "metadata": {},
     "output_type": "execute_result"
    }
   ],
   "source": [
    "[int(i) for i in list(bin(13))[2:]][::-1]"
   ]
  },
  {
   "cell_type": "code",
   "execution_count": 362,
   "id": "f443d135",
   "metadata": {},
   "outputs": [
    {
     "name": "stdout",
     "output_type": "stream",
     "text": [
      "16\n"
     ]
    },
    {
     "data": {
      "text/plain": [
       "array([ 0.,  0.,  0.,  0.,  0.,  1.,  2.,  3.,  2.,  2.,  2.,  2.,  1.,\n",
       "       -0.,  1.,  0.])"
      ]
     },
     "execution_count": 362,
     "metadata": {},
     "output_type": "execute_result"
    }
   ],
   "source": [
    "p1=poly_coeff(156)\n",
    "p2=poly_coeff(184)\n",
    "\n",
    "a_f,b_f,sol= fftrealpolymul(p1,p2)\n",
    "\n",
    "np.rint(sol.tolist())"
   ]
  },
  {
   "cell_type": "code",
   "execution_count": 364,
   "id": "1ab55627",
   "metadata": {},
   "outputs": [
    {
     "data": {
      "text/plain": [
       "(28704.0, 28704)"
      ]
     },
     "execution_count": 364,
     "metadata": {},
     "output_type": "execute_result"
    }
   ],
   "source": [
    "eval_poly(sol),156*184"
   ]
  },
  {
   "cell_type": "code",
   "execution_count": 338,
   "id": "e36c5935",
   "metadata": {},
   "outputs": [
    {
     "data": {
      "text/plain": [
       "[1, 1, 2, 4, 8, 16, 32, 64, 128, 256, 512, 1024, 2048, 4096, 8192, 16384]"
      ]
     },
     "execution_count": 338,
     "metadata": {},
     "output_type": "execute_result"
    }
   ],
   "source": [
    "[1]+[2**i for i in range(len(sol)-1)]"
   ]
  },
  {
   "cell_type": "code",
   "execution_count": 334,
   "id": "8813b37d",
   "metadata": {},
   "outputs": [
    {
     "data": {
      "text/plain": [
       "16"
      ]
     },
     "execution_count": 334,
     "metadata": {},
     "output_type": "execute_result"
    }
   ],
   "source": [
    "n=8\n",
    "2**(n-1)\n",
    "\n",
    "len(sol)"
   ]
  },
  {
   "cell_type": "markdown",
   "id": "3681f112",
   "metadata": {},
   "source": []
  },
  {
   "cell_type": "code",
   "execution_count": null,
   "id": "5e9c8d6e",
   "metadata": {},
   "outputs": [],
   "source": [
    "from cmath import exp, pi\n",
    "L = len(p1)+len(p2)\n",
    "def fft(x):\n",
    "    N = len(x)\n",
    "    if N <= 1: return x\n",
    "    even = fft(x[0::2])\n",
    "    odd =  fft(x[1::2])\n",
    "    T= [exp(-2j*pi*k/N)*odd[k] for k in range(int(N//2))]\n",
    "    return [even[k] + T[k] for k in range(int(N//2))] + \\\n",
    "    [even[k] - T[k] for k in range(int(N//2))]\n",
    "\n",
    "np.array(fft(p1+[0]*(L-len(p1))))"
   ]
  },
  {
   "cell_type": "code",
   "execution_count": null,
   "id": "0b337abf",
   "metadata": {},
   "outputs": [],
   "source": [
    "len(p1+[0]*(L-len(p1)))\n"
   ]
  },
  {
   "cell_type": "code",
   "execution_count": null,
   "id": "114c33d6",
   "metadata": {},
   "outputs": [],
   "source": []
  },
  {
   "cell_type": "markdown",
   "id": "960f3ca3",
   "metadata": {},
   "source": []
  },
  {
   "cell_type": "code",
   "execution_count": null,
   "id": "5884e140",
   "metadata": {},
   "outputs": [],
   "source": [
    "len(p1)"
   ]
  },
  {
   "cell_type": "markdown",
   "id": "ec7aef20",
   "metadata": {},
   "source": []
  },
  {
   "cell_type": "code",
   "execution_count": null,
   "id": "add24b1c",
   "metadata": {},
   "outputs": [],
   "source": []
  }
 ],
 "metadata": {
  "kernelspec": {
   "display_name": "Python [conda env:CS6475] *",
   "language": "python",
   "name": "conda-env-CS6475-py"
  },
  "language_info": {
   "codemirror_mode": {
    "name": "ipython",
    "version": 3
   },
   "file_extension": ".py",
   "mimetype": "text/x-python",
   "name": "python",
   "nbconvert_exporter": "python",
   "pygments_lexer": "ipython3",
   "version": "3.6.13"
  }
 },
 "nbformat": 4,
 "nbformat_minor": 5
}
